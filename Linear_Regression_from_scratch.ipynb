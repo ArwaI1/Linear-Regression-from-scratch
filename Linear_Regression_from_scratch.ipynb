{
  "nbformat": 4,
  "nbformat_minor": 0,
  "metadata": {
    "colab": {
      "provenance": []
    },
    "kernelspec": {
      "name": "python3",
      "display_name": "Python 3"
    },
    "language_info": {
      "name": "python"
    }
  },
  "cells": [
    {
      "cell_type": "code",
      "source": [
        "import numpy as np\n",
        "import matplotlib.pyplot as plt\n",
        "import random\n",
        "\n",
        "from sklearn.datasets import load_iris\n",
        "from sklearn.model_selection import train_test_split"
      ],
      "metadata": {
        "id": "qYsyTn0a9O7a"
      },
      "execution_count": null,
      "outputs": []
    },
    {
      "cell_type": "code",
      "source": [
        "def linear_equation(x):\n",
        "    return 3 * x + 2"
      ],
      "metadata": {
        "id": "2cpV_NHZ7ZBD"
      },
      "execution_count": null,
      "outputs": []
    },
    {
      "cell_type": "code",
      "source": [
        "x_values = [1, 2, 3, 4, 5]\n",
        "y_values = []\n",
        "\n",
        "for x in x_values:\n",
        "    y = linear_equation(x)\n",
        "    y_values.append(y)\n",
        "\n",
        "for i in range(len(x_values)):\n",
        "    print(f\"x{i+1} = {x_values[i]}, y{i+1} = {y_values[i]}\")\n"
      ],
      "metadata": {
        "colab": {
          "base_uri": "https://localhost:8080/"
        },
        "id": "sFr1ri0r7ez8",
        "outputId": "fa016f78-eba0-4dbf-ed87-f6c237d2c021"
      },
      "execution_count": null,
      "outputs": [
        {
          "output_type": "stream",
          "name": "stdout",
          "text": [
            "x1 = 1, y1 = 5\n",
            "x2 = 2, y2 = 8\n",
            "x3 = 3, y3 = 11\n",
            "x4 = 4, y4 = 14\n",
            "x5 = 5, y5 = 17\n"
          ]
        }
      ]
    },
    {
      "cell_type": "code",
      "source": [
        "def linear_regression(x, y):\n",
        "    n = len(x)\n",
        "    x_mean = np.mean(x)\n",
        "    y_mean = np.mean(y)\n",
        "\n",
        "    numerator = np.sum((x - x_mean) * (y - y_mean))\n",
        "    denominator = np.sum((x - x_mean)**2)\n",
        "    slope = numerator / denominator\n",
        "    intercept = y_mean - slope * x_mean\n",
        "\n",
        "    return slope, intercept"
      ],
      "metadata": {
        "id": "Qbkxa9Ij79v_"
      },
      "execution_count": null,
      "outputs": []
    },
    {
      "cell_type": "code",
      "source": [
        "def calculate_mse(actual, predicted):\n",
        "\n",
        "    differences = np.subtract(actual, predicted)\n",
        "    squared_differences = np.square(differences)\n",
        "    mse = np.mean(squared_differences)\n",
        "    return mse\n",
        "\n",
        "slope, intercept = linear_regression(x_values, y_values)\n",
        "print(f\"The equation of the line that best fits the training data is: y = {slope}x + {intercept}\")\n",
        "\n",
        "y_values_predicted = slope * np.array(x_values) + intercept\n",
        "mse = calculate_mse(np.array(y_values), y_values_predicted)\n",
        "print(\"Mean Squared Error:\", mse)"
      ],
      "metadata": {
        "colab": {
          "base_uri": "https://localhost:8080/"
        },
        "id": "yaLu4lsqe7-e",
        "outputId": "2073e7bd-de6a-4ca3-97e4-57a7e2d6306e"
      },
      "execution_count": null,
      "outputs": [
        {
          "output_type": "stream",
          "name": "stdout",
          "text": [
            "The equation of the line that best fits the training data is: y = 3.0x + 2.0\n",
            "Mean Squared Error: 0.0\n"
          ]
        }
      ]
    },
    {
      "cell_type": "code",
      "source": [
        "plt.scatter(x_values, y_values, color='blue', label='Training Data')\n",
        "plt.plot(x_values, y_values, color='red', label='Line of Best Fit')\n",
        "\n",
        "plt.show()\n"
      ],
      "metadata": {
        "colab": {
          "base_uri": "https://localhost:8080/",
          "height": 430
        },
        "id": "3D-O9g6Y9tl9",
        "outputId": "9703b609-7b78-4f66-ebd4-4b6ac2d94a75"
      },
      "execution_count": null,
      "outputs": [
        {
          "output_type": "display_data",
          "data": {
            "text/plain": [
              "<Figure size 640x480 with 1 Axes>"
            ],
            "image/png": "[encoded data removed]"
          },
          "metadata": {}
        }
      ]
    },
    {
      "cell_type": "code",
      "source": [
        "def linear_equation_with_noise(x):\n",
        "    return 3 * x + 2 + random.uniform(0, 1)"
      ],
      "metadata": {
        "id": "nbhDG2GCnnlz"
      },
      "execution_count": null,
      "outputs": []
    },
    {
      "cell_type": "code",
      "source": [
        "x_values = np.array([1, 2, 3, 4, 5])\n",
        "y_values_with_noise = np.array([linear_equation_with_noise(x) for x in x_values])\n",
        "\n",
        "\n",
        "slope_with_noise, intercept_with_noise = linear_regression(x_values, y_values_with_noise)\n",
        "print(f\"The equation of the line that best fits the training data with random noise is: y = {slope_with_noise}x + {intercept_with_noise}\")\n",
        "y_values_predicted = slope_with_noise * x_values + intercept_with_noise\n",
        "\n",
        "mse = calculate_mse(y_values_with_noise, y_values_predicted)\n",
        "print(\"Mean Squared Error:\", mse)\n"
      ],
      "metadata": {
        "colab": {
          "base_uri": "https://localhost:8080/"
        },
        "id": "hslBFLdP8Yxk",
        "outputId": "5aa0f5a6-5a0b-4aa4-ec1b-96eae8317055"
      },
      "execution_count": null,
      "outputs": [
        {
          "output_type": "stream",
          "name": "stdout",
          "text": [
            "The equation of the line that best fits the training data with random noise is: y = 2.8668459459459172x + 2.8954781029305963\n",
            "Mean Squared Error: 0.008590750397754615\n"
          ]
        }
      ]
    },
    {
      "cell_type": "code",
      "source": [
        "plt.scatter(x_values, y_values_with_noise, color='blue', label='Training Data')\n",
        "y_values_predicted = slope_with_noise * x_values + intercept_with_noise\n",
        "plt.plot(x_values, y_values_predicted, color='red', label='Line of Best Fit')\n",
        "\n",
        "plt.show()"
      ],
      "metadata": {
        "colab": {
          "base_uri": "https://localhost:8080/",
          "height": 430
        },
        "id": "Ltx1xIHY8gOI",
        "outputId": "c4d9f440-baae-4aa7-f48d-7f126be680e5"
      },
      "execution_count": null,
      "outputs": [
        {
          "output_type": "display_data",
          "data": {
            "text/plain": [
              "<Figure size 640x480 with 1 Axes>"
            ],
            "image/png": "[encoded data removed]"
          },
          "metadata": {}
        }
      ]
    },
    {
      "cell_type": "code",
      "source": [
        "iris = load_iris()\n",
        "X = iris.data\n",
        "y = iris.target\n",
        "\n",
        "X_class1 = X[y == 0]\n",
        "y_class1 = np.zeros(len(X_class1))\n",
        "\n",
        "X_class2 = X[y != 0]\n",
        "y_class2 = np.ones(len(X_class2))\n"
      ],
      "metadata": {
        "id": "alPt8A184OxG"
      },
      "execution_count": null,
      "outputs": []
    },
    {
      "cell_type": "code",
      "source": [
        "# Split Class I\n",
        "X_class1_train, X_class1_test, y_class1_train, y_class1_test = train_test_split(X_class1, y_class1, test_size=10, train_size=40, random_state=42)\n",
        "print(\"Length of Class I training set:\", len(X_class1_train))\n",
        "print(\"Length of Class I testing set:\", len(X_class1_test))"
      ],
      "metadata": {
        "colab": {
          "base_uri": "https://localhost:8080/"
        },
        "id": "MAiP-VC44hNE",
        "outputId": "9402813f-affa-4b24-cfc8-32be6c239dcc"
      },
      "execution_count": null,
      "outputs": [
        {
          "output_type": "stream",
          "name": "stdout",
          "text": [
            "Length of Class I training set: 40\n",
            "Length of Class I testing set: 10\n"
          ]
        }
      ]
    },
    {
      "cell_type": "code",
      "source": [
        "# Split Class II\n",
        "X_class2_train, X_class2_test, y_class2_train, y_class2_test = train_test_split(X_class2, y_class2, test_size=20, train_size=80, random_state=42)\n",
        "print(\"Length of Class II training set:\", len(X_class2_train))\n",
        "print(\"Length of Class II testing set:\", len(X_class2_test))"
      ],
      "metadata": {
        "colab": {
          "base_uri": "https://localhost:8080/"
        },
        "id": "yqEfLhue41xQ",
        "outputId": "5e7c6361-6a6e-4a14-a2a6-f16719704ad0"
      },
      "execution_count": null,
      "outputs": [
        {
          "output_type": "stream",
          "name": "stdout",
          "text": [
            "Length of Class II training set: 80\n",
            "Length of Class II testing set: 20\n"
          ]
        }
      ]
    },
    {
      "cell_type": "code",
      "source": [
        "def classify_samples(X_test, y_test):\n",
        "    predictions = slope * X_test + intercept\n",
        "    #4\n",
        "    class_predictions = np.where(predictions >= 0, \"Class I\", \"Other classes\")\n",
        "    #5\n",
        "    accuracy_of_classI = np.mean(np.where(class_predictions == \"Class I\", y_test == 0, y_test != 0))\n",
        "    accuracy_of_classII = np.mean(np.where(class_predictions == \"Other classes\", y_test == 1, y_test != 1))\n",
        "    return class_predictions, accuracy_of_classI, accuracy_of_classII\n",
        "\n",
        "# Reshape prediction array\n",
        "X_class1_test_reshaped = X_class1_test.reshape(-1, 1)\n",
        "X_class2_test_reshaped = X_class2_test.reshape(-1, 1)\n",
        "\n",
        "class1_predictions, class1_accuracy, class2_accuracy = classify_samples(X_class1_test_reshaped, y_class1_test)\n",
        "class2_predictions, _, _ = classify_samples(X_class2_test_reshaped, y_class2_test)\n",
        "\n",
        "# Modify class2_predictions\n",
        "class2_predictions = np.where(class2_predictions == \"Class I\", \"Other classes\", class2_predictions)\n",
        "\n",
        "print(\"Class I Predictions:\", class1_predictions)\n",
        "print(\"Class I Accuracy:\", class1_accuracy)\n",
        "print(\"Class II Predictions:\", class2_predictions)\n",
        "print(\"Class II Accuracy:\", class2_accuracy)\n"
      ],
      "metadata": {
        "colab": {
          "base_uri": "https://localhost:8080/"
        },
        "id": "D6btVEhA7Zwa",
        "outputId": "191ed8bd-7275-49e9-b3bd-2f012121b85f"
      },
      "execution_count": null,
      "outputs": [
        {
          "output_type": "stream",
          "name": "stdout",
          "text": [
            "Class I Predictions: [['Class I']\n",
            " ['Class I']\n",
            " ['Class I']\n",
            " ['Class I']\n",
            " ['Class I']\n",
            " ['Class I']\n",
            " ['Class I']\n",
            " ['Class I']\n",
            " ['Class I']\n",
            " ['Class I']\n",
            " ['Class I']\n",
            " ['Class I']\n",
            " ['Class I']\n",
            " ['Class I']\n",
            " ['Class I']\n",
            " ['Class I']\n",
            " ['Class I']\n",
            " ['Class I']\n",
            " ['Class I']\n",
            " ['Class I']\n",
            " ['Class I']\n",
            " ['Class I']\n",
            " ['Class I']\n",
            " ['Class I']\n",
            " ['Class I']\n",
            " ['Class I']\n",
            " ['Class I']\n",
            " ['Class I']\n",
            " ['Class I']\n",
            " ['Class I']\n",
            " ['Class I']\n",
            " ['Class I']\n",
            " ['Class I']\n",
            " ['Class I']\n",
            " ['Class I']\n",
            " ['Class I']\n",
            " ['Class I']\n",
            " ['Class I']\n",
            " ['Class I']\n",
            " ['Class I']]\n",
            "Class I Accuracy: 1.0\n",
            "Class II Predictions: [['Other classes']\n",
            " ['Other classes']\n",
            " ['Other classes']\n",
            " ['Other classes']\n",
            " ['Other classes']\n",
            " ['Other classes']\n",
            " ['Other classes']\n",
            " ['Other classes']\n",
            " ['Other classes']\n",
            " ['Other classes']\n",
            " ['Other classes']\n",
            " ['Other classes']\n",
            " ['Other classes']\n",
            " ['Other classes']\n",
            " ['Other classes']\n",
            " ['Other classes']\n",
            " ['Other classes']\n",
            " ['Other classes']\n",
            " ['Other classes']\n",
            " ['Other classes']\n",
            " ['Other classes']\n",
            " ['Other classes']\n",
            " ['Other classes']\n",
            " ['Other classes']\n",
            " ['Other classes']\n",
            " ['Other classes']\n",
            " ['Other classes']\n",
            " ['Other classes']\n",
            " ['Other classes']\n",
            " ['Other classes']\n",
            " ['Other classes']\n",
            " ['Other classes']\n",
            " ['Other classes']\n",
            " ['Other classes']\n",
            " ['Other classes']\n",
            " ['Other classes']\n",
            " ['Other classes']\n",
            " ['Other classes']\n",
            " ['Other classes']\n",
            " ['Other classes']\n",
            " ['Other classes']\n",
            " ['Other classes']\n",
            " ['Other classes']\n",
            " ['Other classes']\n",
            " ['Other classes']\n",
            " ['Other classes']\n",
            " ['Other classes']\n",
            " ['Other classes']\n",
            " ['Other classes']\n",
            " ['Other classes']\n",
            " ['Other classes']\n",
            " ['Other classes']\n",
            " ['Other classes']\n",
            " ['Other classes']\n",
            " ['Other classes']\n",
            " ['Other classes']\n",
            " ['Other classes']\n",
            " ['Other classes']\n",
            " ['Other classes']\n",
            " ['Other classes']\n",
            " ['Other classes']\n",
            " ['Other classes']\n",
            " ['Other classes']\n",
            " ['Other classes']\n",
            " ['Other classes']\n",
            " ['Other classes']\n",
            " ['Other classes']\n",
            " ['Other classes']\n",
            " ['Other classes']\n",
            " ['Other classes']\n",
            " ['Other classes']\n",
            " ['Other classes']\n",
            " ['Other classes']\n",
            " ['Other classes']\n",
            " ['Other classes']\n",
            " ['Other classes']\n",
            " ['Other classes']\n",
            " ['Other classes']\n",
            " ['Other classes']\n",
            " ['Other classes']]\n",
            "Class II Accuracy: 1.0\n"
          ]
        }
      ]
    },
    {
      "cell_type": "code",
      "source": [
        "# class1_predictions = np.where(slope * X_class1_test_reshaped + intercept > 0, \"Class I\", \"Other classes\")\n",
        "# class2_predictions = np.where(slope * X_class2_test_reshaped + intercept < 0, \"Class I\", \"Other classes\")\n",
        "\n",
        "# print(\"Class I Predictions:\", class1_predictions)\n",
        "# print(\"Class II Predictions:\", class2_predictions)"
      ],
      "metadata": {
        "colab": {
          "base_uri": "https://localhost:8080/"
        },
        "id": "bWpo49G2-X2I",
        "outputId": "a0643b8a-4b7f-4f86-850a-de4b2f04f1f9"
      },
      "execution_count": null,
      "outputs": [
        {
          "output_type": "stream",
          "name": "stdout",
          "text": [
            "Class I Predictions: [['Class I']\n",
            " ['Class I']\n",
            " ['Class I']\n",
            " ['Class I']\n",
            " ['Class I']\n",
            " ['Class I']\n",
            " ['Class I']\n",
            " ['Class I']\n",
            " ['Class I']\n",
            " ['Class I']\n",
            " ['Class I']\n",
            " ['Class I']\n",
            " ['Class I']\n",
            " ['Class I']\n",
            " ['Class I']\n",
            " ['Class I']\n",
            " ['Class I']\n",
            " ['Class I']\n",
            " ['Class I']\n",
            " ['Class I']\n",
            " ['Class I']\n",
            " ['Class I']\n",
            " ['Class I']\n",
            " ['Class I']\n",
            " ['Class I']\n",
            " ['Class I']\n",
            " ['Class I']\n",
            " ['Class I']\n",
            " ['Class I']\n",
            " ['Class I']\n",
            " ['Class I']\n",
            " ['Class I']\n",
            " ['Class I']\n",
            " ['Class I']\n",
            " ['Class I']\n",
            " ['Class I']\n",
            " ['Class I']\n",
            " ['Class I']\n",
            " ['Class I']\n",
            " ['Class I']]\n",
            "Class II Predictions: [['Other classes']\n",
            " ['Other classes']\n",
            " ['Other classes']\n",
            " ['Other classes']\n",
            " ['Other classes']\n",
            " ['Other classes']\n",
            " ['Other classes']\n",
            " ['Other classes']\n",
            " ['Other classes']\n",
            " ['Other classes']\n",
            " ['Other classes']\n",
            " ['Other classes']\n",
            " ['Other classes']\n",
            " ['Other classes']\n",
            " ['Other classes']\n",
            " ['Other classes']\n",
            " ['Other classes']\n",
            " ['Other classes']\n",
            " ['Other classes']\n",
            " ['Other classes']\n",
            " ['Other classes']\n",
            " ['Other classes']\n",
            " ['Other classes']\n",
            " ['Other classes']\n",
            " ['Other classes']\n",
            " ['Other classes']\n",
            " ['Other classes']\n",
            " ['Other classes']\n",
            " ['Other classes']\n",
            " ['Other classes']\n",
            " ['Other classes']\n",
            " ['Other classes']\n",
            " ['Other classes']\n",
            " ['Other classes']\n",
            " ['Other classes']\n",
            " ['Other classes']\n",
            " ['Other classes']\n",
            " ['Other classes']\n",
            " ['Other classes']\n",
            " ['Other classes']\n",
            " ['Other classes']\n",
            " ['Other classes']\n",
            " ['Other classes']\n",
            " ['Other classes']\n",
            " ['Other classes']\n",
            " ['Other classes']\n",
            " ['Other classes']\n",
            " ['Other classes']\n",
            " ['Other classes']\n",
            " ['Other classes']\n",
            " ['Other classes']\n",
            " ['Other classes']\n",
            " ['Other classes']\n",
            " ['Other classes']\n",
            " ['Other classes']\n",
            " ['Other classes']\n",
            " ['Other classes']\n",
            " ['Other classes']\n",
            " ['Other classes']\n",
            " ['Other classes']\n",
            " ['Other classes']\n",
            " ['Other classes']\n",
            " ['Other classes']\n",
            " ['Other classes']\n",
            " ['Other classes']\n",
            " ['Other classes']\n",
            " ['Other classes']\n",
            " ['Other classes']\n",
            " ['Other classes']\n",
            " ['Other classes']\n",
            " ['Other classes']\n",
            " ['Other classes']\n",
            " ['Other classes']\n",
            " ['Other classes']\n",
            " ['Other classes']\n",
            " ['Other classes']\n",
            " ['Other classes']\n",
            " ['Other classes']\n",
            " ['Other classes']\n",
            " ['Other classes']]\n"
          ]
        }
      ]
    },
    {
      "cell_type": "code",
      "source": [
        "plt.scatter(X[y == 0, 0], X[y == 0, 1], label='Class I')\n",
        "plt.scatter(X[y_new == 2, 0], X[y_new == 2, 1], label='Class II')\n",
        "\n",
        "plt.xlabel('Sepal Length')\n",
        "plt.ylabel('Sepal Width')\n",
        "plt.title('Scatter Plot of Iris Dataset')\n",
        "\n",
        "plt.legend()\n",
        "\n",
        "plt.show()"
      ],
      "metadata": {
        "colab": {
          "base_uri": "https://localhost:8080/",
          "height": 472
        },
        "id": "esZxrJub_0Ql",
        "outputId": "ebccf00d-156f-43fc-ed03-748ee0f1acd3"
      },
      "execution_count": null,
      "outputs": [
        {
          "output_type": "display_data",
          "data": {
            "text/plain": [
              "<Figure size 640x480 with 1 Axes>"
            ],
            "image/png": "[encoded data removed]"
          },
          "metadata": {}
        }
      ]
    }
  ]
}